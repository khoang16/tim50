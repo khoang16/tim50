{
  "nbformat": 4,
  "nbformat_minor": 0,
  "metadata": {
    "colab": {
      "provenance": [],
      "authorship_tag": "ABX9TyNrsFX2VW0n3C7StYdimY/6",
      "include_colab_link": true
    },
    "kernelspec": {
      "name": "python3",
      "display_name": "Python 3"
    },
    "language_info": {
      "name": "python"
    }
  },
  "cells": [
    {
      "cell_type": "markdown",
      "metadata": {
        "id": "view-in-github",
        "colab_type": "text"
      },
      "source": [
        "<a href=\"https://colab.research.google.com/github/khoang16/tim50/blob/main/TIM50_Kim_Assignment1.ipynb\" target=\"_parent\"><img src=\"https://colab.research.google.com/assets/colab-badge.svg\" alt=\"Open In Colab\"/></a>"
      ]
    },
    {
      "cell_type": "code",
      "execution_count": null,
      "metadata": {
        "colab": {
          "base_uri": "https://localhost:8080/"
        },
        "id": "gheg8HHRPOAw",
        "outputId": "3f11155a-d487-4fca-da35-d59ef88d2110"
      },
      "outputs": [
        {
          "output_type": "stream",
          "name": "stdout",
          "text": [
            "Looking in indexes: https://pypi.org/simple, https://us-python.pkg.dev/colab-wheels/public/simple/\n",
            "Requirement already satisfied: ipython-sql in /usr/local/lib/python3.8/dist-packages (0.3.9)\n",
            "Requirement already satisfied: ipython>=1.0 in /usr/local/lib/python3.8/dist-packages (from ipython-sql) (7.9.0)\n",
            "Requirement already satisfied: sqlparse in /usr/local/lib/python3.8/dist-packages (from ipython-sql) (0.4.3)\n",
            "Requirement already satisfied: six in /usr/local/lib/python3.8/dist-packages (from ipython-sql) (1.15.0)\n",
            "Requirement already satisfied: prettytable in /usr/local/lib/python3.8/dist-packages (from ipython-sql) (3.6.0)\n",
            "Requirement already satisfied: ipython-genutils>=0.1.0 in /usr/local/lib/python3.8/dist-packages (from ipython-sql) (0.2.0)\n",
            "Requirement already satisfied: sqlalchemy>=0.6.7 in /usr/local/lib/python3.8/dist-packages (from ipython-sql) (1.4.46)\n",
            "Requirement already satisfied: prompt-toolkit<2.1.0,>=2.0.0 in /usr/local/lib/python3.8/dist-packages (from ipython>=1.0->ipython-sql) (2.0.10)\n",
            "Requirement already satisfied: backcall in /usr/local/lib/python3.8/dist-packages (from ipython>=1.0->ipython-sql) (0.2.0)\n",
            "Requirement already satisfied: traitlets>=4.2 in /usr/local/lib/python3.8/dist-packages (from ipython>=1.0->ipython-sql) (5.7.1)\n",
            "Requirement already satisfied: pexpect in /usr/local/lib/python3.8/dist-packages (from ipython>=1.0->ipython-sql) (4.8.0)\n",
            "Requirement already satisfied: decorator in /usr/local/lib/python3.8/dist-packages (from ipython>=1.0->ipython-sql) (4.4.2)\n",
            "Requirement already satisfied: pygments in /usr/local/lib/python3.8/dist-packages (from ipython>=1.0->ipython-sql) (2.6.1)\n",
            "Requirement already satisfied: setuptools>=18.5 in /usr/local/lib/python3.8/dist-packages (from ipython>=1.0->ipython-sql) (57.4.0)\n",
            "Requirement already satisfied: pickleshare in /usr/local/lib/python3.8/dist-packages (from ipython>=1.0->ipython-sql) (0.7.5)\n",
            "Collecting jedi>=0.10\n",
            "  Downloading jedi-0.18.2-py2.py3-none-any.whl (1.6 MB)\n",
            "\u001b[2K     \u001b[90m━━━━━━━━━━━━━━━━━━━━━━━━━━━━━━━━━━━━━━━━\u001b[0m \u001b[32m1.6/1.6 MB\u001b[0m \u001b[31m16.6 MB/s\u001b[0m eta \u001b[36m0:00:00\u001b[0m\n",
            "\u001b[?25hRequirement already satisfied: greenlet!=0.4.17 in /usr/local/lib/python3.8/dist-packages (from sqlalchemy>=0.6.7->ipython-sql) (2.0.1)\n",
            "Requirement already satisfied: wcwidth in /usr/local/lib/python3.8/dist-packages (from prettytable->ipython-sql) (0.2.5)\n",
            "Requirement already satisfied: parso<0.9.0,>=0.8.0 in /usr/local/lib/python3.8/dist-packages (from jedi>=0.10->ipython>=1.0->ipython-sql) (0.8.3)\n",
            "Requirement already satisfied: ptyprocess>=0.5 in /usr/local/lib/python3.8/dist-packages (from pexpect->ipython>=1.0->ipython-sql) (0.7.0)\n",
            "Installing collected packages: jedi\n",
            "Successfully installed jedi-0.18.2\n"
          ]
        }
      ],
      "source": [
        "!pip install ipython-sql"
      ]
    },
    {
      "cell_type": "code",
      "source": [
        "import sqlalchemy"
      ],
      "metadata": {
        "id": "IckLn1vFQ-K_"
      },
      "execution_count": null,
      "outputs": []
    },
    {
      "cell_type": "code",
      "source": [
        "engine = sqlalchemy.create_engine('sqlite:///myDB.db')"
      ],
      "metadata": {
        "id": "PTrMF5sMSRI2"
      },
      "execution_count": null,
      "outputs": []
    },
    {
      "cell_type": "code",
      "source": [
        "con = engine.raw_connection()"
      ],
      "metadata": {
        "colab": {
          "base_uri": "https://localhost:8080/"
        },
        "id": "9kgq_TezSmxB",
        "outputId": "5a3de865-5fcd-45bb-c6bf-fc6b1d65341f"
      },
      "execution_count": null,
      "outputs": [
        {
          "output_type": "stream",
          "name": "stderr",
          "text": [
            "ERROR:sqlalchemy.pool.impl.NullPool:Exception during reset or similar\n",
            "Traceback (most recent call last):\n",
            "  File \"/usr/local/lib/python3.8/dist-packages/sqlalchemy/pool/base.py\", line 763, in _finalize_fairy\n",
            "    fairy._reset(pool, transaction_was_reset)\n",
            "  File \"/usr/local/lib/python3.8/dist-packages/sqlalchemy/pool/base.py\", line 1038, in _reset\n",
            "    pool._dialect.do_rollback(self)\n",
            "  File \"/usr/local/lib/python3.8/dist-packages/sqlalchemy/engine/default.py\", line 683, in do_rollback\n",
            "    dbapi_connection.rollback()\n",
            "sqlite3.ProgrammingError: SQLite objects created in a thread can only be used in that same thread. The object was created in thread id 140032992209984 and this is thread id 140032661702400.\n",
            "ERROR:sqlalchemy.pool.impl.NullPool:Exception closing connection <sqlite3.Connection object at 0x7f5be3841990>\n",
            "Traceback (most recent call last):\n",
            "  File \"/usr/local/lib/python3.8/dist-packages/sqlalchemy/pool/base.py\", line 763, in _finalize_fairy\n",
            "    fairy._reset(pool, transaction_was_reset)\n",
            "  File \"/usr/local/lib/python3.8/dist-packages/sqlalchemy/pool/base.py\", line 1038, in _reset\n",
            "    pool._dialect.do_rollback(self)\n",
            "  File \"/usr/local/lib/python3.8/dist-packages/sqlalchemy/engine/default.py\", line 683, in do_rollback\n",
            "    dbapi_connection.rollback()\n",
            "sqlite3.ProgrammingError: SQLite objects created in a thread can only be used in that same thread. The object was created in thread id 140032992209984 and this is thread id 140032661702400.\n",
            "\n",
            "During handling of the above exception, another exception occurred:\n",
            "\n",
            "Traceback (most recent call last):\n",
            "  File \"/usr/local/lib/python3.8/dist-packages/sqlalchemy/pool/base.py\", line 260, in _close_connection\n",
            "    self._dialect.do_terminate(connection)\n",
            "  File \"/usr/local/lib/python3.8/dist-packages/sqlalchemy/engine/default.py\", line 689, in do_terminate\n",
            "    self.do_close(dbapi_connection)\n",
            "  File \"/usr/local/lib/python3.8/dist-packages/sqlalchemy/engine/default.py\", line 692, in do_close\n",
            "    dbapi_connection.close()\n",
            "sqlite3.ProgrammingError: SQLite objects created in a thread can only be used in that same thread. The object was created in thread id 140032992209984 and this is thread id 140032661702400.\n"
          ]
        }
      ]
    },
    {
      "cell_type": "code",
      "source": [
        "cursor = con.cursor()"
      ],
      "metadata": {
        "id": "9zJWFQrKSprI"
      },
      "execution_count": null,
      "outputs": []
    },
    {
      "cell_type": "code",
      "source": [
        "cursor.execute( \"CREATE TABLE names (name TEXT, last_name TEXT);\" )"
      ],
      "metadata": {
        "colab": {
          "base_uri": "https://localhost:8080/"
        },
        "id": "m3ouinkySsnk",
        "outputId": "0fb98b6a-d2fd-4915-e8f8-12226daab7a7"
      },
      "execution_count": null,
      "outputs": [
        {
          "output_type": "execute_result",
          "data": {
            "text/plain": [
              "<sqlite3.Cursor at 0x7f5be34b1f80>"
            ]
          },
          "metadata": {},
          "execution_count": 21
        }
      ]
    },
    {
      "cell_type": "code",
      "source": [
        "cursor.execute(\"INSERT INTO names VALUES ('John', 'Doe');\")"
      ],
      "metadata": {
        "colab": {
          "base_uri": "https://localhost:8080/"
        },
        "id": "-Sl0RsJ3TLQ3",
        "outputId": "caa69fe7-6a43-4405-ad5b-d8715cdf787c"
      },
      "execution_count": null,
      "outputs": [
        {
          "output_type": "execute_result",
          "data": {
            "text/plain": [
              "<sqlite3.Cursor at 0x7f5be34b1f80>"
            ]
          },
          "metadata": {},
          "execution_count": 22
        }
      ]
    },
    {
      "cell_type": "code",
      "source": [
        "con.commit()"
      ],
      "metadata": {
        "id": "TolsxyLdTPQn"
      },
      "execution_count": null,
      "outputs": []
    },
    {
      "cell_type": "code",
      "source": [
        "for row in cursor.execute(\"SELECT * FROM names;\"): print(row)"
      ],
      "metadata": {
        "colab": {
          "base_uri": "https://localhost:8080/"
        },
        "id": "OVKtGsQ9TR5Q",
        "outputId": "a94dfb22-ea1d-4a1c-b460-9495dd717c58"
      },
      "execution_count": null,
      "outputs": [
        {
          "output_type": "stream",
          "name": "stdout",
          "text": [
            "('John', 'Doe')\n"
          ]
        }
      ]
    },
    {
      "cell_type": "code",
      "source": [
        "import pandas as pd"
      ],
      "metadata": {
        "id": "2S6Ht1SDX-0S"
      },
      "execution_count": null,
      "outputs": []
    },
    {
      "cell_type": "code",
      "source": [
        "data = pd.read_csv('flights-2.csv')"
      ],
      "metadata": {
        "id": "_rWVTjEbYkFG"
      },
      "execution_count": null,
      "outputs": []
    },
    {
      "cell_type": "code",
      "source": [
        "data.to_sql('flights', con, if_exists='append', index=False)"
      ],
      "metadata": {
        "id": "h_u4P9wIYmJR"
      },
      "execution_count": null,
      "outputs": []
    },
    {
      "cell_type": "code",
      "source": [
        "for row in cursor.execute(\"SELECT * FROM flights LIMIT 10;\"): print(row)"
      ],
      "metadata": {
        "colab": {
          "base_uri": "https://localhost:8080/"
        },
        "id": "sCmYbAmOYvWO",
        "outputId": "e4fae7e9-f3bb-48ef-bbb1-75b7cc595ed8"
      },
      "execution_count": null,
      "outputs": [
        {
          "output_type": "stream",
          "name": "stdout",
          "text": [
            "('12:10', 'MUC', '19:38', 'SFO', 'UA 907 ', '763', '1', 16, 28.0, 16.47, None)\n",
            "('10:35', 'TPE', '8:06', 'SFO', 'UA 830 ', '777', '1', 13, 31.0, 13.52, None)\n",
            "('15:15', 'SYD', '9:38', 'SFO', 'UA 870 ', '744', 'Non-Stop', 13, 23.0, 13.38, None)\n",
            "('20:00', 'AKL', '11:15', 'SFO', 'NZ 008 ', '772', 'Non-Stop', 12, 15.0, 12.25, None)\n",
            "('15:50', 'MUC', '19:00', 'SFO', 'LH 458 ', '346', 'Non-Stop', 12, 10.0, 12.17, None)\n",
            "('15:50', 'MUC', '19:00', 'SFO', 'NZ 4658 ', '346', 'Non-Stop', 12, 10.0, 12.17, 1.0)\n",
            "('15:50', 'MUC', '19:00', 'SFO', 'UA 8883 ', '346', 'Non-Stop', 12, 10.0, 12.17, 1.0)\n",
            "('21:55', 'HKG', '17:55', 'SFO', 'SQ 2 ', '744', 'Non-Stop', 12, None, 12.0, None)\n",
            "('16:30', 'HKG', '12:25', 'SFO', 'AA 6118 ', '744', 'Non-Stop', 11, 55.0, 11.92, 1.0)\n",
            "('16:30', 'HKG', '12:25', 'SFO', 'CX 872 ', '744', 'Non-Stop', 11, 55.0, 11.92, None)\n"
          ]
        }
      ]
    },
    {
      "cell_type": "code",
      "source": [
        "for row in cursor.execute(\"PRAGMA table_info('flights');\"): print(row)"
      ],
      "metadata": {
        "colab": {
          "base_uri": "https://localhost:8080/"
        },
        "id": "K10_p0vCYwHA",
        "outputId": "f0309c6c-c269-4215-8c1a-d0a9ee44e8ba"
      },
      "execution_count": null,
      "outputs": [
        {
          "output_type": "stream",
          "name": "stdout",
          "text": [
            "(0, 'Depart_Time', 'TEXT', 0, None, 0)\n",
            "(1, 'Origin', 'TEXT', 0, None, 0)\n",
            "(2, 'Arrival_Time', 'TEXT', 0, None, 0)\n",
            "(3, 'Destination', 'TEXT', 0, None, 0)\n",
            "(4, 'Flight', 'TEXT', 0, None, 0)\n",
            "(5, 'Aircraft', 'TEXT', 0, None, 0)\n",
            "(6, 'Stops', 'TEXT', 0, None, 0)\n",
            "(7, 'hours', 'INTEGER', 0, None, 0)\n",
            "(8, 'minutes', 'REAL', 0, None, 0)\n",
            "(9, 'duration', 'REAL', 0, None, 0)\n",
            "(10, 'codeshare', 'REAL', 0, None, 0)\n"
          ]
        }
      ]
    },
    {
      "cell_type": "code",
      "source": [
        "command = \"SELECT Depart_Time, Origin, Aircraft FROM flights LIMIT 10;\""
      ],
      "metadata": {
        "id": "d0agyKWNYyow"
      },
      "execution_count": null,
      "outputs": []
    },
    {
      "cell_type": "code",
      "source": [
        "for row in cursor.execute(command): print(row)"
      ],
      "metadata": {
        "colab": {
          "base_uri": "https://localhost:8080/"
        },
        "id": "pY0m4vy9Y4Vv",
        "outputId": "964370e7-8c51-4cc6-8c48-af587dfeccfc"
      },
      "execution_count": null,
      "outputs": [
        {
          "output_type": "stream",
          "name": "stdout",
          "text": [
            "('12:10', 'MUC', '763')\n",
            "('10:35', 'TPE', '777')\n",
            "('15:15', 'SYD', '744')\n",
            "('20:00', 'AKL', '772')\n",
            "('15:50', 'MUC', '346')\n",
            "('15:50', 'MUC', '346')\n",
            "('15:50', 'MUC', '346')\n",
            "('21:55', 'HKG', '744')\n",
            "('16:30', 'HKG', '744')\n",
            "('16:30', 'HKG', '744')\n"
          ]
        }
      ]
    },
    {
      "cell_type": "code",
      "source": [
        "q= \"SELECT Flight, Origin, duration FROM flights ORDER BY duration DESC LIMIT 10;\""
      ],
      "metadata": {
        "id": "ajBGm20Wa1GC"
      },
      "execution_count": null,
      "outputs": []
    },
    {
      "cell_type": "code",
      "source": [
        "for row in cursor.execute(q): print(row)"
      ],
      "metadata": {
        "colab": {
          "base_uri": "https://localhost:8080/"
        },
        "id": "75T7E4jga3-L",
        "outputId": "16fb3e7d-6ae2-4c3a-b560-1a2754ac575d"
      },
      "execution_count": null,
      "outputs": [
        {
          "output_type": "stream",
          "name": "stdout",
          "text": [
            "('UA 907 ', 'MUC', 16.47)\n",
            "('UA 830 ', 'TPE', 13.52)\n",
            "('UA 870 ', 'SYD', 13.38)\n",
            "('NZ 008 ', 'AKL', 12.25)\n",
            "('LH 458 ', 'MUC', 12.17)\n",
            "('NZ 4658 ', 'MUC', 12.17)\n",
            "('UA 8883 ', 'MUC', 12.17)\n",
            "('SQ 2 ', 'HKG', 12.0)\n",
            "('AA 6118 ', 'HKG', 11.92)\n",
            "('CX 872 ', 'HKG', 11.92)\n"
          ]
        }
      ]
    },
    {
      "cell_type": "code",
      "source": [
        "q= \"\"\"SELECT Flight, Origin, duration FROM flights WHERE Destination = 'SFO'\n",
        "and codeshare = 1 ORDER BY duration DESC LIMIT 10;\"\"\""
      ],
      "metadata": {
        "id": "gBu79JLua-d_"
      },
      "execution_count": null,
      "outputs": []
    },
    {
      "cell_type": "code",
      "source": [
        "for row in cursor.execute(q): print(row)"
      ],
      "metadata": {
        "colab": {
          "base_uri": "https://localhost:8080/"
        },
        "id": "S3iJ9VFwa_aW",
        "outputId": "8d3605bb-be5b-43e4-adb4-7db1e137f55e"
      },
      "execution_count": null,
      "outputs": [
        {
          "output_type": "stream",
          "name": "stdout",
          "text": [
            "('NZ 4658 ', 'MUC', 12.17)\n",
            "('UA 8883 ', 'MUC', 12.17)\n",
            "('AA 6118 ', 'HKG', 11.92)\n",
            "('US 6466 ', 'HKG', 11.72)\n",
            "('LH 9052 ', 'FRA', 11.58)\n",
            "('NZ 9801 ', 'FRA', 11.58)\n",
            "('NZ 4654 ', 'FRA', 11.33)\n",
            "('UA 8829 ', 'FRA', 11.33)\n",
            "('NZ 9855 ', 'LHR', 11.22)\n",
            "('NZ 9831 ', 'LHR', 11.22)\n"
          ]
        }
      ]
    },
    {
      "cell_type": "code",
      "source": [
        "df = pd.read_csv('aircrafts.csv')"
      ],
      "metadata": {
        "id": "ljrv44Aabuc-"
      },
      "execution_count": null,
      "outputs": []
    },
    {
      "cell_type": "code",
      "source": [
        "df.to_sql('aircrafts', con, if_exists='append', index=False)"
      ],
      "metadata": {
        "id": "opprEJsPbwj3"
      },
      "execution_count": null,
      "outputs": []
    },
    {
      "cell_type": "code",
      "source": [
        "q= \"SELECT * FROM aircrafts LIMIT 10;\""
      ],
      "metadata": {
        "id": "shETxAkJbxf0"
      },
      "execution_count": null,
      "outputs": []
    },
    {
      "cell_type": "code",
      "source": [
        "for row in cursor.execute(q): print(row)"
      ],
      "metadata": {
        "colab": {
          "base_uri": "https://localhost:8080/"
        },
        "id": "GMGTR1mNb0GR",
        "outputId": "e942b22a-75ca-4ce4-bb13-9f0e9f0de325"
      },
      "execution_count": null,
      "outputs": [
        {
          "output_type": "stream",
          "name": "stdout",
          "text": [
            "('737', 124)\n",
            "('733', 124)\n",
            "('319', 124)\n",
            "('73G', 124)\n",
            "('735', 104)\n",
            "('318', 104)\n",
            "('738', 150)\n",
            "('320', 150)\n",
            "('32S', 150)\n",
            "('734', 150)\n"
          ]
        }
      ]
    },
    {
      "cell_type": "code",
      "source": [
        "q = \"PRAGMA table_info('aircrafts');\"\n"
      ],
      "metadata": {
        "id": "t9_f6kbqb2T5"
      },
      "execution_count": null,
      "outputs": []
    },
    {
      "cell_type": "code",
      "source": [
        "for row in cursor.execute(q): print(row);"
      ],
      "metadata": {
        "colab": {
          "base_uri": "https://localhost:8080/"
        },
        "id": "ONNXWIdJb5O4",
        "outputId": "d8f779d9-4ed5-419e-d3d0-d25d2f3c2e05"
      },
      "execution_count": null,
      "outputs": [
        {
          "output_type": "stream",
          "name": "stdout",
          "text": [
            "(0, 'Aircraft', 'TEXT', 0, None, 0)\n",
            "(1, 'Seats', 'INTEGER', 0, None, 0)\n"
          ]
        }
      ]
    },
    {
      "cell_type": "code",
      "source": [
        "q = \"DROP TABLE IF EXISTS flights;\""
      ],
      "metadata": {
        "id": "iap8xZ5PdS2n"
      },
      "execution_count": null,
      "outputs": []
    },
    {
      "cell_type": "code",
      "source": [
        "cursor.execute(q) ;"
      ],
      "metadata": {
        "id": "Jrw57o85dT5e"
      },
      "execution_count": null,
      "outputs": []
    },
    {
      "cell_type": "code",
      "source": [
        "con.commit()"
      ],
      "metadata": {
        "id": "LBaLk2m4dW7X"
      },
      "execution_count": null,
      "outputs": []
    }
  ]
}